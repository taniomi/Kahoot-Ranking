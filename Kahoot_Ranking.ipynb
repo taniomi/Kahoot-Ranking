{
 "cells": [
  {
   "cell_type": "markdown",
   "metadata": {
    "id": "IIxU_ht3PoG9"
   },
   "source": [
    "# Kahoot Ranking\n",
    "\n",
    "Este Notebook filtra os vencedores do Kahoot, retornando os primeiros n colocados.\n",
    "\n",
    "## ▶ Pontuação\n",
    "### 1. Pontos de pódio\n",
    "Para cada Kahoot:\n",
    "\n",
    "🥇1 lugar : 3 pontos\n",
    "\n",
    "🥈2 lugar : 2 pontos\n",
    "\n",
    "🥉3 lugar : 1 ponto\n",
    "\n",
    "### 2. Pontos do Kahoot\n",
    "O desempate é feito pela pontuação acumulada dos Kahoots. "
   ]
  },
  {
   "cell_type": "code",
   "execution_count": 1,
   "metadata": {
    "colab": {
     "base_uri": "https://localhost:8080/"
    },
    "id": "lUeD4Cp542HF",
    "outputId": "5510f26a-6e1b-4d7b-8ea8-7861d90c264d"
   },
   "outputs": [],
   "source": [
    "import os\n",
    "import pandas as pd\n",
    "from unidecode import unidecode\n",
    "import re"
   ]
  },
  {
   "cell_type": "code",
   "execution_count": 2,
   "metadata": {
    "id": "Sy-a9fNL6gOI"
   },
   "outputs": [],
   "source": [
    "# Set folder path\n",
    "folder_path = \"2024_1-LIBERDADE\""
   ]
  },
  {
   "cell_type": "code",
   "execution_count": 3,
   "metadata": {
    "id": "W-e7Xdfu1yHB"
   },
   "outputs": [],
   "source": [
    "def clean_string(input_string):\n",
    "    # Use a regular expression to remove spaces and numbers\n",
    "    cleaned_string = re.sub(r'[\\s\\d]', '', input_string)\n",
    "\n",
    "    # Remove accents using unidecode\n",
    "    no_accents_string = unidecode(cleaned_string)\n",
    "\n",
    "    # Convert the cleaned string to lowercase\n",
    "    lowercased_string = no_accents_string.lower()\n",
    "\n",
    "    return lowercased_string"
   ]
  },
  {
   "cell_type": "markdown",
   "metadata": {},
   "source": [
    "## Name exception dict \n",
    "Define name aliases to substitute (check which names have more than 1 alias)\n",
    "\n",
    "'alias': 'originalname'"
   ]
  },
  {
   "cell_type": "code",
   "execution_count": 10,
   "metadata": {
    "id": "n4OPX3zH6-mn"
   },
   "outputs": [],
   "source": [
    "name_alias = {\n",
    "    'marbinoso': 'mardabi', \n",
    "    'bine': 'bidomar', \n",
    "    'mardomar': 'johann',\n",
    "    'quadra': 'johann',\n",
    "    'quadrado': 'johann',\n",
    "    'bigxand': 'xandao',\n",
    "    'shaquilleomeal': 'johann',\n",
    "    'bobberkurwa': 'johann',\n",
    "    'paracetamal': 'johann',\n",
    "    'quadroh': 'johann',\n",
    "    'vaixco ': 'johann',\n",
    "    'bagriel': 'johann',\n",
    "    'mardomar': 'johann',\n",
    "    'quadrado': 'johann'\n",
    "}"
   ]
  },
  {
   "cell_type": "code",
   "execution_count": 12,
   "metadata": {
    "colab": {
     "base_uri": "https://localhost:8080/",
     "height": 488
    },
    "id": "opfmmSD044lX",
    "outputId": "122611a0-0db7-45a2-fbcb-14f66c57b5d5"
   },
   "outputs": [
    {
     "data": {
      "text/html": [
       "<div>\n",
       "<style scoped>\n",
       "    .dataframe tbody tr th:only-of-type {\n",
       "        vertical-align: middle;\n",
       "    }\n",
       "\n",
       "    .dataframe tbody tr th {\n",
       "        vertical-align: top;\n",
       "    }\n",
       "\n",
       "    .dataframe thead th {\n",
       "        text-align: right;\n",
       "    }\n",
       "</style>\n",
       "<table border=\"1\" class=\"dataframe\">\n",
       "  <thead>\n",
       "    <tr style=\"text-align: right;\">\n",
       "      <th></th>\n",
       "      <th>Name</th>\n",
       "      <th>Podium_Points</th>\n",
       "      <th>Points</th>\n",
       "    </tr>\n",
       "  </thead>\n",
       "  <tbody>\n",
       "    <tr>\n",
       "      <th>1</th>\n",
       "      <td>johann</td>\n",
       "      <td>12</td>\n",
       "      <td>31247</td>\n",
       "    </tr>\n",
       "    <tr>\n",
       "      <th>2</th>\n",
       "      <td>natal</td>\n",
       "      <td>10</td>\n",
       "      <td>23765</td>\n",
       "    </tr>\n",
       "    <tr>\n",
       "      <th>3</th>\n",
       "      <td>einstein</td>\n",
       "      <td>8</td>\n",
       "      <td>16101</td>\n",
       "    </tr>\n",
       "    <tr>\n",
       "      <th>4</th>\n",
       "      <td>lu</td>\n",
       "      <td>6</td>\n",
       "      <td>13104</td>\n",
       "    </tr>\n",
       "    <tr>\n",
       "      <th>5</th>\n",
       "      <td>marcell</td>\n",
       "      <td>5</td>\n",
       "      <td>11199</td>\n",
       "    </tr>\n",
       "  </tbody>\n",
       "</table>\n",
       "</div>"
      ],
      "text/plain": [
       "       Name  Podium_Points  Points\n",
       "1    johann             12   31247\n",
       "2     natal             10   23765\n",
       "3  einstein              8   16101\n",
       "4        lu              6   13104\n",
       "5   marcell              5   11199"
      ]
     },
     "execution_count": 12,
     "metadata": {},
     "output_type": "execute_result"
    }
   ],
   "source": [
    "# Get file info\n",
    "file_list = [f for f in os.listdir(folder_path)]\n",
    "\n",
    "df_dict = {}\n",
    "\n",
    "for file_name in file_list:\n",
    "    file_path = os.path.join(folder_path, file_name)\n",
    "    key = file_name\n",
    "    df_dict[key] = pd.read_excel(file_path, sheet_name='Final Scores')\n",
    "\n",
    "# Create dataframe for podium\n",
    "general_podium = pd.DataFrame()\n",
    "\n",
    "# Join the files\n",
    "for key in df_dict:\n",
    "    podium = df_dict[key].iloc[2:5,:3].rename(columns={df_dict[key].columns[0]:'Podium'})\n",
    "    general_podium = pd.concat([general_podium,podium])\n",
    "\n",
    "# Rename columns\n",
    "general_podium.rename(columns={'Unnamed: 1':'Name','Unnamed: 2':'Points'},inplace=True)\n",
    "# Change data type\n",
    "general_podium['Podium'] = general_podium['Podium'].astype(int)\n",
    "general_podium['Points'] = general_podium['Points'].astype(int)\n",
    "\n",
    "# Clean names\n",
    "general_podium['Name'] = general_podium['Name'].apply(lambda x: clean_string(x))\n",
    "\n",
    "# Substitute name aliases\n",
    "general_podium['Name'] = general_podium['Name'].replace(name_alias)\n",
    "\n",
    "# Assign Podium points\n",
    "point_mapping = {1: 3, 2: 2, 3: 1}\n",
    "general_podium['Podium_Points'] = general_podium['Podium'].map(point_mapping)\n",
    "\n",
    "# Create general podium\n",
    "general_podium = (general_podium.loc[:,['Name','Podium_Points','Points']]\n",
    "                  .groupby(['Name'])\n",
    "                  .sum()\n",
    "                  .sort_values(['Podium_Points', 'Points'], ascending=[False, False])\n",
    "                  .reset_index())\n",
    "\n",
    "# Index starts at 1\n",
    "general_podium.index = general_podium.index + 1\n",
    "\n",
    "general_podium.head(5)"
   ]
  }
 ],
 "metadata": {
  "colab": {
   "provenance": []
  },
  "kernelspec": {
   "display_name": "Python 3 (ipykernel)",
   "language": "python",
   "name": "python3"
  },
  "language_info": {
   "codemirror_mode": {
    "name": "ipython",
    "version": 3
   },
   "file_extension": ".py",
   "mimetype": "text/x-python",
   "name": "python",
   "nbconvert_exporter": "python",
   "pygments_lexer": "ipython3",
   "version": "3.11.5"
  }
 },
 "nbformat": 4,
 "nbformat_minor": 4
}
