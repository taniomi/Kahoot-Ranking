{
 "cells": [
  {
   "cell_type": "markdown",
   "metadata": {
    "id": "IIxU_ht3PoG9"
   },
   "source": [
    "# Kahoot Ranking\n",
    "\n",
    "Este Notebook filtra os vencedores do Kahoot, retornando os primeiros n colocados.\n",
    "\n",
    "## ▶ Pontuação\n",
    "### 1. Pontos de pódio\n",
    "Para cada Kahoot:\n",
    "\n",
    "🥇1 lugar : 3 pontos\n",
    "\n",
    "🥈2 lugar : 2 pontos\n",
    "\n",
    "🥉3 lugar : 1 ponto\n",
    "\n",
    "### 2. Pontos do Kahoot\n",
    "O desempate é feito pela pontuação acumulada dos Kahoots. "
   ]
  },
  {
   "cell_type": "code",
   "execution_count": 1,
   "metadata": {
    "colab": {
     "base_uri": "https://localhost:8080/"
    },
    "id": "lUeD4Cp542HF",
    "outputId": "5510f26a-6e1b-4d7b-8ea8-7861d90c264d"
   },
   "outputs": [],
   "source": [
    "import os\n",
    "import pandas as pd\n",
    "from unidecode import unidecode\n",
    "import re"
   ]
  },
  {
   "cell_type": "code",
   "execution_count": 2,
   "metadata": {
    "id": "Sy-a9fNL6gOI"
   },
   "outputs": [],
   "source": [
    "# Set folder path\n",
    "folder_path = \"2024_2-CONFLITO\""
   ]
  },
  {
   "cell_type": "code",
   "execution_count": 3,
   "metadata": {
    "id": "W-e7Xdfu1yHB"
   },
   "outputs": [],
   "source": [
    "def clean_string(input_string):\n",
    "    # Use a regular expression to remove spaces and numbers\n",
    "    cleaned_string = re.sub(r'[\\s\\d]', '', input_string)\n",
    "\n",
    "    # Remove accents using unidecode\n",
    "    no_accents_string = unidecode(cleaned_string)\n",
    "\n",
    "    # Convert the cleaned string to lowercase\n",
    "    lowercased_string = no_accents_string.lower()\n",
    "\n",
    "    return lowercased_string"
   ]
  },
  {
   "cell_type": "code",
   "execution_count": 40,
   "metadata": {
    "colab": {
     "base_uri": "https://localhost:8080/",
     "height": 488
    },
    "id": "opfmmSD044lX",
    "outputId": "122611a0-0db7-45a2-fbcb-14f66c57b5d5"
   },
   "outputs": [],
   "source": [
    "# Get file info\n",
    "file_list = [f for f in os.listdir(folder_path)]\n",
    "\n",
    "df_dict = {}\n",
    "for file_name in file_list:\n",
    "    file_path = os.path.join(folder_path, file_name)\n",
    "    key = file_name\n",
    "    df_dict[key] = pd.read_excel(file_path, sheet_name='Final Scores', usecols=\"A:C\", header=2)\n",
    "\n",
    "# Create dataframe for podium\n",
    "general_podium = pd.DataFrame()\n",
    "\n",
    "# Join the files\n",
    "for key in df_dict:\n",
    "    podium = df_dict[key].rename(columns={df_dict[key].columns[0]:'Podium'})\n",
    "    general_podium = pd.concat([general_podium,podium])\n",
    "\n",
    "# Rename columns\n",
    "general_podium.rename(columns={'Total Score (points)':'Points'},inplace=True)\n",
    "# Change data type\n",
    "general_podium['Podium'] = general_podium['Podium'].astype(int)\n",
    "general_podium['Points'] = general_podium['Points'].astype(int)\n",
    "\n",
    "# Clean names\n",
    "general_podium['Player'] = general_podium['Player'].apply(lambda x: clean_string(x))\n",
    "\n",
    "# Substitute name aliases\n",
    "general_podium['Player'] = general_podium['Player'].replace(name_alias)\n",
    "\n",
    "# Assign Podium points\n",
    "point_mapping = {1: 3, 2: 2, 3: 1}\n",
    "general_podium['Podium_Points'] = general_podium['Podium'].map(point_mapping)\n",
    "\n"
   ]
  },
  {
   "cell_type": "markdown",
   "metadata": {},
   "source": [
    "## Resolve names"
   ]
  },
  {
   "cell_type": "markdown",
   "metadata": {},
   "source": [
    "### Name exception dict \n",
    "Define name aliases to substitute (check which names have more than 1 alias)\n",
    "\n",
    "'alias': 'originalname'"
   ]
  },
  {
   "cell_type": "code",
   "execution_count": null,
   "metadata": {},
   "outputs": [],
   "source": [
    "name_alias = {\n",
    "    'marbinoso': 'mardabi', \n",
    "    'bine': 'bidomar', \n",
    "    'mardomar': 'johann',\n",
    "    'quadra': 'johann',\n",
    "    'quadrado': 'johann',\n",
    "    'bigxand': 'xandao',\n",
    "    'shaquilleomeal': 'johann',\n",
    "    'bobberkurwa': 'johann',\n",
    "    'paracetamal': 'johann',\n",
    "    'quadroh': 'johann',\n",
    "    'vaixco ': 'johann',\n",
    "    'bagriel': 'johann',\n",
    "    'mardomar': 'johann',\n",
    "    'quadrado': 'johann',\n",
    "    'luaraara': 'luara',\n",
    "    'kakerlake': 'johann',\n",
    "    'fmr': 'johann',\n",
    "    'pirarucu': 'johann',\n",
    "    'bambu': 'johann',\n",
    "    'yej!b': 'yej!n',\n",
    "    'tirisco': 'johann',\n",
    "    'luuu': 'luara',\n",
    "    'lua':'luara',\n",
    "}"
   ]
  },
  {
   "cell_type": "code",
   "execution_count": null,
   "metadata": {},
   "outputs": [
    {
     "name": "stderr",
     "output_type": "stream",
     "text": [
      "WARNING:root:Applied processor reduces input query to empty string, all comparisons will have score 0. [Query: '']\n"
     ]
    },
    {
     "name": "stdout",
     "output_type": "stream",
     "text": [
      "['johann' 'machado' 'aguilar' 'ali' 'amanda' 'amelia' 'angelina' 'babi'\n",
      " 'bidomar' 'bombom' 'brenda' 'da' 'debruyne' 'eduardo' 'einstein' 'evelyn'\n",
      " 'rafa' 'marcell' 'gabriel' 'geraldo' 'giu' 'gustavo' 'henrique' 'nath'\n",
      " 'jb' 'kim' 'rs' 'luara' 'leleo' 'levis' 'lilian' 'louis' 'lucas' 'pallu'\n",
      " 'mari' 'mardabi' 'matos' 'maycon' 'migueleli' 'natal' 'otavio' 'r&c'\n",
      " 'rws' 'sabrine' 'tefi' 'thobah' 'tijolinho' 'trentin' 'veruska' 'xandao'\n",
      " 'yejin']\n"
     ]
    }
   ],
   "source": [
    "from fuzzywuzzy import process, fuzz\n",
    "\n",
    "# List of known names\n",
    "known_names = ['einstein', 'natal', 'sabrine', 'veruska', 'brenda', 'trentin', 'luara', 'marcell', 'angelina', 'babi', 'rws', 'yejin', 'aguilar', 'bombom', 'gabriel', 'mardabi', 'evelyn', 'otavio', 'nath', 'leleo', 'rafa', 'ali', 'xandao', 'amanda', 'machado', 'debruyne', 'jb', 'lucas', 'lilian', 'migueleli', 'bidomar', 'maycon', 'matos', 'levis', 'amelia', 'giu', 'kim', 'louis', 'geraldo', 'pallu', 'tefi', 'da', 'tijolinho', 'r&c', 'mari', 'henrique', 'rs', 'eduardo', 'gustavo', 'thobah']\n",
    "\n",
    "# Mapping dictionary for known variations\n",
    "mapping = {\n",
    "    'natal': 'natal',\n",
    "    'natalmatheus': 'natal',\n",
    "    'luara': 'luara',\n",
    "    'luaraara': 'luara',\n",
    "    'babi': 'babi',\n",
    "    'babii': 'babi',\n",
    "    'trentin': 'trentin',\n",
    "    'trentinpaola': 'trentin',\n",
    "    'yej!n': 'yejin',\n",
    "    'yej!b': 'yejin',\n",
    "    # Add more mappings as needed\n",
    "}\n",
    "\n",
    "# Threshold for similarity score to consider names completely different\n",
    "similarity_threshold = 30\n",
    "\n",
    "# Function to normalize names\n",
    "def normalize_name(name, known_names, mapping, threshold):\n",
    "    if name in mapping:\n",
    "        return mapping[name]\n",
    "    match = process.extractOne(name, known_names)\n",
    "    if match and match[1] >= threshold:\n",
    "        return match[0]\n",
    "    return 'johann'\n",
    "\n",
    "# Normalize names\n",
    "general_podium['Player'] = general_podium['Player'].apply(lambda x: normalize_name(x, known_names, mapping, similarity_threshold))\n",
    "\n",
    "# Display the DataFrame to verify\n",
    "print(general_podium['Player'].unique())\n"
   ]
  },
  {
   "cell_type": "code",
   "execution_count": null,
   "metadata": {},
   "outputs": [],
   "source": [
    "# Create general podium\n",
    "general_podium = (general_podium.loc[:,['Player','Podium_Points','Points']]\n",
    "                  .groupby(['Player'])\n",
    "                  .sum())\n",
    "\n",
    "# Index starts at 1\n",
    "general_podium.index = general_podium.index + 1"
   ]
  },
  {
   "cell_type": "code",
   "execution_count": 75,
   "metadata": {},
   "outputs": [],
   "source": [
    "general_podium = general_podium.groupby('Player').sum().reset_index()"
   ]
  },
  {
   "cell_type": "markdown",
   "metadata": {},
   "source": [
    "## Podium Variations"
   ]
  },
  {
   "cell_type": "code",
   "execution_count": 76,
   "metadata": {},
   "outputs": [
    {
     "data": {
      "text/html": [
       "<div>\n",
       "<style scoped>\n",
       "    .dataframe tbody tr th:only-of-type {\n",
       "        vertical-align: middle;\n",
       "    }\n",
       "\n",
       "    .dataframe tbody tr th {\n",
       "        vertical-align: top;\n",
       "    }\n",
       "\n",
       "    .dataframe thead th {\n",
       "        text-align: right;\n",
       "    }\n",
       "</style>\n",
       "<table border=\"1\" class=\"dataframe\">\n",
       "  <thead>\n",
       "    <tr style=\"text-align: right;\">\n",
       "      <th></th>\n",
       "      <th>Player</th>\n",
       "      <th>Podium_Points</th>\n",
       "      <th>Points</th>\n",
       "    </tr>\n",
       "  </thead>\n",
       "  <tbody>\n",
       "    <tr>\n",
       "      <th>0</th>\n",
       "      <td>natal</td>\n",
       "      <td>10.0</td>\n",
       "      <td>67560</td>\n",
       "    </tr>\n",
       "    <tr>\n",
       "      <th>1</th>\n",
       "      <td>luara</td>\n",
       "      <td>9.0</td>\n",
       "      <td>31608</td>\n",
       "    </tr>\n",
       "    <tr>\n",
       "      <th>2</th>\n",
       "      <td>einstein</td>\n",
       "      <td>7.0</td>\n",
       "      <td>24518</td>\n",
       "    </tr>\n",
       "    <tr>\n",
       "      <th>3</th>\n",
       "      <td>sabrine</td>\n",
       "      <td>5.0</td>\n",
       "      <td>28353</td>\n",
       "    </tr>\n",
       "    <tr>\n",
       "      <th>4</th>\n",
       "      <td>angelina</td>\n",
       "      <td>5.0</td>\n",
       "      <td>21617</td>\n",
       "    </tr>\n",
       "  </tbody>\n",
       "</table>\n",
       "</div>"
      ],
      "text/plain": [
       "     Player  Podium_Points  Points\n",
       "0     natal           10.0   67560\n",
       "1     luara            9.0   31608\n",
       "2  einstein            7.0   24518\n",
       "3   sabrine            5.0   28353\n",
       "4  angelina            5.0   21617"
      ]
     },
     "execution_count": 76,
     "metadata": {},
     "output_type": "execute_result"
    }
   ],
   "source": [
    "general_podium.sort_values(['Podium_Points', 'Points'], ascending=[False, False]).head(5).reset_index(drop=True)"
   ]
  },
  {
   "cell_type": "code",
   "execution_count": 79,
   "metadata": {},
   "outputs": [
    {
     "data": {
      "text/html": [
       "<div>\n",
       "<style scoped>\n",
       "    .dataframe tbody tr th:only-of-type {\n",
       "        vertical-align: middle;\n",
       "    }\n",
       "\n",
       "    .dataframe tbody tr th {\n",
       "        vertical-align: top;\n",
       "    }\n",
       "\n",
       "    .dataframe thead th {\n",
       "        text-align: right;\n",
       "    }\n",
       "</style>\n",
       "<table border=\"1\" class=\"dataframe\">\n",
       "  <thead>\n",
       "    <tr style=\"text-align: right;\">\n",
       "      <th></th>\n",
       "      <th>Player</th>\n",
       "      <th>Podium_Points</th>\n",
       "      <th>Points</th>\n",
       "    </tr>\n",
       "  </thead>\n",
       "  <tbody>\n",
       "    <tr>\n",
       "      <th>0</th>\n",
       "      <td>natal</td>\n",
       "      <td>10.0</td>\n",
       "      <td>67560</td>\n",
       "    </tr>\n",
       "    <tr>\n",
       "      <th>1</th>\n",
       "      <td>luara</td>\n",
       "      <td>9.0</td>\n",
       "      <td>31608</td>\n",
       "    </tr>\n",
       "    <tr>\n",
       "      <th>2</th>\n",
       "      <td>sabrine</td>\n",
       "      <td>5.0</td>\n",
       "      <td>28353</td>\n",
       "    </tr>\n",
       "    <tr>\n",
       "      <th>3</th>\n",
       "      <td>einstein</td>\n",
       "      <td>7.0</td>\n",
       "      <td>24518</td>\n",
       "    </tr>\n",
       "    <tr>\n",
       "      <th>4</th>\n",
       "      <td>marcell</td>\n",
       "      <td>5.0</td>\n",
       "      <td>11047</td>\n",
       "    </tr>\n",
       "  </tbody>\n",
       "</table>\n",
       "</div>"
      ],
      "text/plain": [
       "     Player  Podium_Points  Points\n",
       "0     natal           10.0   67560\n",
       "1     luara            9.0   31608\n",
       "2   sabrine            5.0   28353\n",
       "3  einstein            7.0   24518\n",
       "4   marcell            5.0   11047"
      ]
     },
     "execution_count": 79,
     "metadata": {},
     "output_type": "execute_result"
    }
   ],
   "source": [
    "# TOP 5 PODIUM PTS AND THEN BY ACC PTS\n",
    "general_podium.sort_values(['Podium_Points'], ascending=False).head(5).sort_values(['Points'], ascending=False).reset_index(drop=True)"
   ]
  },
  {
   "cell_type": "code",
   "execution_count": 80,
   "metadata": {},
   "outputs": [
    {
     "data": {
      "text/html": [
       "<div>\n",
       "<style scoped>\n",
       "    .dataframe tbody tr th:only-of-type {\n",
       "        vertical-align: middle;\n",
       "    }\n",
       "\n",
       "    .dataframe tbody tr th {\n",
       "        vertical-align: top;\n",
       "    }\n",
       "\n",
       "    .dataframe thead th {\n",
       "        text-align: right;\n",
       "    }\n",
       "</style>\n",
       "<table border=\"1\" class=\"dataframe\">\n",
       "  <thead>\n",
       "    <tr style=\"text-align: right;\">\n",
       "      <th></th>\n",
       "      <th>Player</th>\n",
       "      <th>Podium_Points</th>\n",
       "      <th>Points</th>\n",
       "    </tr>\n",
       "  </thead>\n",
       "  <tbody>\n",
       "    <tr>\n",
       "      <th>0</th>\n",
       "      <td>natal</td>\n",
       "      <td>10.0</td>\n",
       "      <td>67560</td>\n",
       "    </tr>\n",
       "    <tr>\n",
       "      <th>1</th>\n",
       "      <td>rws</td>\n",
       "      <td>1.0</td>\n",
       "      <td>36676</td>\n",
       "    </tr>\n",
       "    <tr>\n",
       "      <th>2</th>\n",
       "      <td>luara</td>\n",
       "      <td>9.0</td>\n",
       "      <td>31608</td>\n",
       "    </tr>\n",
       "    <tr>\n",
       "      <th>3</th>\n",
       "      <td>gabriel</td>\n",
       "      <td>0.0</td>\n",
       "      <td>31417</td>\n",
       "    </tr>\n",
       "    <tr>\n",
       "      <th>4</th>\n",
       "      <td>sabrine</td>\n",
       "      <td>5.0</td>\n",
       "      <td>28353</td>\n",
       "    </tr>\n",
       "  </tbody>\n",
       "</table>\n",
       "</div>"
      ],
      "text/plain": [
       "    Player  Podium_Points  Points\n",
       "0    natal           10.0   67560\n",
       "1      rws            1.0   36676\n",
       "2    luara            9.0   31608\n",
       "3  gabriel            0.0   31417\n",
       "4  sabrine            5.0   28353"
      ]
     },
     "execution_count": 80,
     "metadata": {},
     "output_type": "execute_result"
    }
   ],
   "source": [
    "general_podium.sort_values(['Points'], ascending=False).head(5).reset_index(drop=True)"
   ]
  },
  {
   "cell_type": "code",
   "execution_count": 69,
   "metadata": {},
   "outputs": [
    {
     "data": {
      "text/plain": [
       "array(['johann', 'machado', 'aguilar', 'ali', 'amanda', 'amelia',\n",
       "       'angelina', 'babi', 'bidomar', 'bombom', 'brenda', 'da',\n",
       "       'debruyne', 'eduardo', 'einstein', 'evelyn', 'rafa', 'marcell',\n",
       "       'gabriel', 'geraldo', 'giu', 'gustavo', 'henrique', 'nath', 'jb',\n",
       "       'kim', 'rs', 'luara', 'leleo', 'levis', 'lilian', 'louis', 'lucas',\n",
       "       'pallu', 'mari', 'mardabi', 'matos', 'maycon', 'migueleli',\n",
       "       'natal', 'otavio', 'r&c', 'rws', 'sabrine', 'tefi', 'thobah',\n",
       "       'tijolinho', 'trentin', 'veruska', 'xandao', 'yejin'], dtype=object)"
      ]
     },
     "execution_count": 69,
     "metadata": {},
     "output_type": "execute_result"
    }
   ],
   "source": [
    "general_podium.Player.unique()"
   ]
  }
 ],
 "metadata": {
  "colab": {
   "provenance": []
  },
  "kernelspec": {
   "display_name": "Python 3 (ipykernel)",
   "language": "python",
   "name": "python3"
  },
  "language_info": {
   "codemirror_mode": {
    "name": "ipython",
    "version": 3
   },
   "file_extension": ".py",
   "mimetype": "text/x-python",
   "name": "python",
   "nbconvert_exporter": "python",
   "pygments_lexer": "ipython3",
   "version": "3.12.4"
  }
 },
 "nbformat": 4,
 "nbformat_minor": 4
}
